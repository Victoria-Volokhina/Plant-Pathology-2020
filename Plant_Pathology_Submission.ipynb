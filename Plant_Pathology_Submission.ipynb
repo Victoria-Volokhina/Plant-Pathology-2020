{
 "cells": [
  {
   "cell_type": "code",
   "execution_count": 45,
   "metadata": {},
   "outputs": [],
   "source": [
    "import numpy as np \n",
    "import pandas as pd \n",
    "import os\n",
    "\n",
    "import warnings\n",
    "warnings.filterwarnings(\"ignore\")"
   ]
  },
  {
   "cell_type": "markdown",
   "metadata": {},
   "source": [
    "1. Закачиваю тест и вал каждой модели\n",
    "2. Составляю ДФ трэйн и ДФ тест\n",
    "3. Тренирую модель\n",
    "4. Получаю предсказания\n",
    "5. Сохраняю предсказания"
   ]
  },
  {
   "cell_type": "markdown",
   "metadata": {},
   "source": [
    "# Loading"
   ]
  },
  {
   "cell_type": "code",
   "execution_count": 2,
   "metadata": {},
   "outputs": [],
   "source": [
    "sub = pd.read_csv('sample_submission.csv')"
   ]
  },
  {
   "cell_type": "code",
   "execution_count": 3,
   "metadata": {},
   "outputs": [],
   "source": [
    "valid_labels = pd.read_csv('valid_labels.csv').to_numpy()"
   ]
  },
  {
   "cell_type": "code",
   "execution_count": 24,
   "metadata": {},
   "outputs": [],
   "source": [
    "pred_val_EffNetB7 = pd.read_csv('preds_EffNetB7_val.csv')\n",
    "pred_test_EffNetB7 = pd.read_csv('preds_EffNetB7_test.csv')"
   ]
  },
  {
   "cell_type": "code",
   "execution_count": 25,
   "metadata": {},
   "outputs": [],
   "source": [
    "pred_val_IncV3 = pd.read_csv('preds_IncV3_val.csv')\n",
    "pred_test_IncV3 = pd.read_csv('preds_IncV3_test.csv')"
   ]
  },
  {
   "cell_type": "code",
   "execution_count": 26,
   "metadata": {},
   "outputs": [],
   "source": [
    "pred_val_Xcept = pd.read_csv('preds_Xcept_val.csv')\n",
    "pred_test_Xcept = pd.read_csv('preds_Xcept_test.csv')"
   ]
  },
  {
   "cell_type": "code",
   "execution_count": 8,
   "metadata": {},
   "outputs": [
    {
     "data": {
      "text/plain": [
       "(274, 12)"
      ]
     },
     "execution_count": 8,
     "metadata": {},
     "output_type": "execute_result"
    }
   ],
   "source": [
    "pred_train = np.concatenate((pred_val_EffNetB7, pred_val_IncV3, pred_val_Xcept), axis=1)\n",
    "pred_train.shape"
   ]
  },
  {
   "cell_type": "code",
   "execution_count": 11,
   "metadata": {},
   "outputs": [
    {
     "data": {
      "text/plain": [
       "(1821, 12)"
      ]
     },
     "execution_count": 11,
     "metadata": {},
     "output_type": "execute_result"
    }
   ],
   "source": [
    "pred_test = np.concatenate((pred_test_EffNetB7.loc[:, 'healthy':], pred_test_IncV3.loc[:, 'healthy':], pred_test_Xcept.loc[:, 'healthy':]), axis=1)\n",
    "pred_test.shape"
   ]
  },
  {
   "cell_type": "markdown",
   "metadata": {},
   "source": [
    "# MLPClassifier LB 0.925"
   ]
  },
  {
   "cell_type": "code",
   "execution_count": 15,
   "metadata": {},
   "outputs": [
    {
     "data": {
      "text/plain": [
       "MLPClassifier(activation='relu', alpha=0.0001, batch_size='auto', beta_1=0.9,\n",
       "              beta_2=0.999, early_stopping=False, epsilon=1e-08,\n",
       "              hidden_layer_sizes=(100,), learning_rate='constant',\n",
       "              learning_rate_init=0.001, max_iter=400, momentum=0.9,\n",
       "              n_iter_no_change=10, nesterovs_momentum=True, power_t=0.5,\n",
       "              random_state=None, shuffle=True, solver='adam', tol=0.0001,\n",
       "              validation_fraction=0.1, verbose=False, warm_start=False)"
      ]
     },
     "execution_count": 15,
     "metadata": {},
     "output_type": "execute_result"
    }
   ],
   "source": [
    "from sklearn.neural_network import MLPClassifier\n",
    "\n",
    "MLP_clf = MLPClassifier(max_iter=400)\n",
    "MLP_clf.fit(pred_train, valid_labels)"
   ]
  },
  {
   "cell_type": "code",
   "execution_count": 16,
   "metadata": {},
   "outputs": [],
   "source": [
    "predictionMLP = MLP_clf.predict(pred_test)"
   ]
  },
  {
   "cell_type": "code",
   "execution_count": 18,
   "metadata": {},
   "outputs": [
    {
     "data": {
      "text/html": [
       "<div>\n",
       "<style scoped>\n",
       "    .dataframe tbody tr th:only-of-type {\n",
       "        vertical-align: middle;\n",
       "    }\n",
       "\n",
       "    .dataframe tbody tr th {\n",
       "        vertical-align: top;\n",
       "    }\n",
       "\n",
       "    .dataframe thead th {\n",
       "        text-align: right;\n",
       "    }\n",
       "</style>\n",
       "<table border=\"1\" class=\"dataframe\">\n",
       "  <thead>\n",
       "    <tr style=\"text-align: right;\">\n",
       "      <th></th>\n",
       "      <th>image_id</th>\n",
       "      <th>healthy</th>\n",
       "      <th>multiple_diseases</th>\n",
       "      <th>rust</th>\n",
       "      <th>scab</th>\n",
       "    </tr>\n",
       "  </thead>\n",
       "  <tbody>\n",
       "    <tr>\n",
       "      <th>0</th>\n",
       "      <td>Test_0</td>\n",
       "      <td>0</td>\n",
       "      <td>0</td>\n",
       "      <td>1</td>\n",
       "      <td>0</td>\n",
       "    </tr>\n",
       "    <tr>\n",
       "      <th>1</th>\n",
       "      <td>Test_1</td>\n",
       "      <td>0</td>\n",
       "      <td>0</td>\n",
       "      <td>1</td>\n",
       "      <td>0</td>\n",
       "    </tr>\n",
       "    <tr>\n",
       "      <th>2</th>\n",
       "      <td>Test_2</td>\n",
       "      <td>0</td>\n",
       "      <td>0</td>\n",
       "      <td>0</td>\n",
       "      <td>1</td>\n",
       "    </tr>\n",
       "    <tr>\n",
       "      <th>3</th>\n",
       "      <td>Test_3</td>\n",
       "      <td>1</td>\n",
       "      <td>0</td>\n",
       "      <td>0</td>\n",
       "      <td>0</td>\n",
       "    </tr>\n",
       "    <tr>\n",
       "      <th>4</th>\n",
       "      <td>Test_4</td>\n",
       "      <td>0</td>\n",
       "      <td>0</td>\n",
       "      <td>1</td>\n",
       "      <td>0</td>\n",
       "    </tr>\n",
       "  </tbody>\n",
       "</table>\n",
       "</div>"
      ],
      "text/plain": [
       "  image_id  healthy  multiple_diseases  rust  scab\n",
       "0   Test_0        0                  0     1     0\n",
       "1   Test_1        0                  0     1     0\n",
       "2   Test_2        0                  0     0     1\n",
       "3   Test_3        1                  0     0     0\n",
       "4   Test_4        0                  0     1     0"
      ]
     },
     "execution_count": 18,
     "metadata": {},
     "output_type": "execute_result"
    }
   ],
   "source": [
    "sub.loc[:, 'healthy':] = predictionMLP\n",
    "sub.to_csv('submission_3models_MLP_Clf.csv', index=False)\n",
    "sub.head()\n",
    "# LB 0.961, clf 0.925"
   ]
  },
  {
   "cell_type": "markdown",
   "metadata": {},
   "source": [
    "# Ridge LB 0.962"
   ]
  },
  {
   "cell_type": "code",
   "execution_count": 20,
   "metadata": {},
   "outputs": [],
   "source": [
    "from sklearn.linear_model import Ridge\n",
    "\n",
    "ridge = Ridge(alpha=1, random_state=241)\n",
    "ridge.fit(pred_train, Y)\n",
    "predictions = ridge.predict(pred_test)"
   ]
  },
  {
   "cell_type": "code",
   "execution_count": 21,
   "metadata": {},
   "outputs": [
    {
     "data": {
      "text/html": [
       "<div>\n",
       "<style scoped>\n",
       "    .dataframe tbody tr th:only-of-type {\n",
       "        vertical-align: middle;\n",
       "    }\n",
       "\n",
       "    .dataframe tbody tr th {\n",
       "        vertical-align: top;\n",
       "    }\n",
       "\n",
       "    .dataframe thead th {\n",
       "        text-align: right;\n",
       "    }\n",
       "</style>\n",
       "<table border=\"1\" class=\"dataframe\">\n",
       "  <thead>\n",
       "    <tr style=\"text-align: right;\">\n",
       "      <th></th>\n",
       "      <th>image_id</th>\n",
       "      <th>healthy</th>\n",
       "      <th>multiple_diseases</th>\n",
       "      <th>rust</th>\n",
       "      <th>scab</th>\n",
       "    </tr>\n",
       "  </thead>\n",
       "  <tbody>\n",
       "    <tr>\n",
       "      <th>0</th>\n",
       "      <td>Test_0</td>\n",
       "      <td>0.000872</td>\n",
       "      <td>0.006601</td>\n",
       "      <td>0.991457</td>\n",
       "      <td>0.001070</td>\n",
       "    </tr>\n",
       "    <tr>\n",
       "      <th>1</th>\n",
       "      <td>Test_1</td>\n",
       "      <td>0.000871</td>\n",
       "      <td>0.006620</td>\n",
       "      <td>0.991437</td>\n",
       "      <td>0.001072</td>\n",
       "    </tr>\n",
       "    <tr>\n",
       "      <th>2</th>\n",
       "      <td>Test_2</td>\n",
       "      <td>-0.005331</td>\n",
       "      <td>0.005607</td>\n",
       "      <td>0.000326</td>\n",
       "      <td>0.999398</td>\n",
       "    </tr>\n",
       "    <tr>\n",
       "      <th>3</th>\n",
       "      <td>Test_3</td>\n",
       "      <td>0.994449</td>\n",
       "      <td>0.012190</td>\n",
       "      <td>-0.002802</td>\n",
       "      <td>-0.003837</td>\n",
       "    </tr>\n",
       "    <tr>\n",
       "      <th>4</th>\n",
       "      <td>Test_4</td>\n",
       "      <td>0.000872</td>\n",
       "      <td>0.007434</td>\n",
       "      <td>0.990644</td>\n",
       "      <td>0.001050</td>\n",
       "    </tr>\n",
       "  </tbody>\n",
       "</table>\n",
       "</div>"
      ],
      "text/plain": [
       "  image_id   healthy  multiple_diseases      rust      scab\n",
       "0   Test_0  0.000872           0.006601  0.991457  0.001070\n",
       "1   Test_1  0.000871           0.006620  0.991437  0.001072\n",
       "2   Test_2 -0.005331           0.005607  0.000326  0.999398\n",
       "3   Test_3  0.994449           0.012190 -0.002802 -0.003837\n",
       "4   Test_4  0.000872           0.007434  0.990644  0.001050"
      ]
     },
     "execution_count": 21,
     "metadata": {},
     "output_type": "execute_result"
    }
   ],
   "source": [
    "sub.loc[:, 'healthy':] = predictions\n",
    "sub.to_csv('submission_predict_ridge.csv', index=False)\n",
    "sub.head()"
   ]
  },
  {
   "cell_type": "markdown",
   "metadata": {},
   "source": [
    "# Entropies LB 0.970"
   ]
  },
  {
   "cell_type": "markdown",
   "metadata": {},
   "source": [
    "1. 5 моделей энтропия\n",
    "2. 5 моделей среднее\n",
    "3. 3 модели энтропия"
   ]
  },
  {
   "cell_type": "code",
   "execution_count": 61,
   "metadata": {},
   "outputs": [],
   "source": [
    "sub1 = pd.read_csv('preds_EffNetB7_test.csv')\n",
    "sub2 = pd.read_csv('preds_IncV3_test.csv')\n",
    "sub3 = pd.read_csv('preds_DenseNet201_test.csv')\n",
    "# sub4 = pd.read_csv('preds_ResNet152V2_test.csv')\n",
    "# sub5 = pd.read_csv('preds_Xcept_test.csv')\n",
    "sub = pd.read_csv('sample_submission.csv')"
   ]
  },
  {
   "cell_type": "code",
   "execution_count": null,
   "metadata": {},
   "outputs": [],
   "source": [
    "from scipy.stats import entropy"
   ]
  },
  {
   "cell_type": "code",
   "execution_count": 62,
   "metadata": {},
   "outputs": [],
   "source": [
    "ent1 = entropy(sub1.loc[:,'healthy' : ], base=2, axis = 1)\n",
    "ent2 = entropy(sub2.loc[:,'healthy' : ], base=2, axis = 1)\n",
    "ent3 = entropy(sub3.loc[:,'healthy' : ], base=2, axis = 1)\n",
    "# ent4 = entropy(sub4.loc[:,'healthy' : ], base=2, axis = 1)\n",
    "# ent5 = entropy(sub5.loc[:,'healthy' : ], base=2, axis = 1)\n",
    "entropies = np.array([ent1, ent2, ent3]).transpose()\n",
    "entropies.shape\n",
    "\n",
    "selected = np.argmin(entropies, axis = 1)"
   ]
  },
  {
   "cell_type": "code",
   "execution_count": 63,
   "metadata": {},
   "outputs": [],
   "source": [
    "submission_size = len(selected)\n",
    "for i in range(submission_size):\n",
    "    if selected[i] ==0:\n",
    "        sub.loc[i, 'healthy' : ] = sub1.loc[i, 'healthy' :]\n",
    "    elif selected[i] ==1:\n",
    "        sub.loc[i, 'healthy' : ] = sub2.loc[i, 'healthy' :]\n",
    "    elif selected[i] == 2:\n",
    "        sub.loc[i, 'healthy' : ] = sub3.loc[i, 'healthy' :]\n",
    "#     elif selected[i] == 3:\n",
    "#         sub.loc[i, 'healthy' : ] = sub4.loc[i, 'healthy' :]\n",
    "#     elif selected[i] == 4:\n",
    "#         sub.loc[i, 'healthy' : ] = sub5.loc[i, 'healthy' :]"
   ]
  },
  {
   "cell_type": "code",
   "execution_count": 64,
   "metadata": {},
   "outputs": [
    {
     "data": {
      "text/html": [
       "<div>\n",
       "<style scoped>\n",
       "    .dataframe tbody tr th:only-of-type {\n",
       "        vertical-align: middle;\n",
       "    }\n",
       "\n",
       "    .dataframe tbody tr th {\n",
       "        vertical-align: top;\n",
       "    }\n",
       "\n",
       "    .dataframe thead th {\n",
       "        text-align: right;\n",
       "    }\n",
       "</style>\n",
       "<table border=\"1\" class=\"dataframe\">\n",
       "  <thead>\n",
       "    <tr style=\"text-align: right;\">\n",
       "      <th></th>\n",
       "      <th>image_id</th>\n",
       "      <th>healthy</th>\n",
       "      <th>multiple_diseases</th>\n",
       "      <th>rust</th>\n",
       "      <th>scab</th>\n",
       "    </tr>\n",
       "  </thead>\n",
       "  <tbody>\n",
       "    <tr>\n",
       "      <th>0</th>\n",
       "      <td>Test_0</td>\n",
       "      <td>3.226034e-05</td>\n",
       "      <td>3.505256e-05</td>\n",
       "      <td>9.999325e-01</td>\n",
       "      <td>1.039862e-07</td>\n",
       "    </tr>\n",
       "    <tr>\n",
       "      <th>1</th>\n",
       "      <td>Test_1</td>\n",
       "      <td>1.153907e-09</td>\n",
       "      <td>1.142887e-06</td>\n",
       "      <td>9.999987e-01</td>\n",
       "      <td>8.203622e-08</td>\n",
       "    </tr>\n",
       "    <tr>\n",
       "      <th>2</th>\n",
       "      <td>Test_2</td>\n",
       "      <td>7.117664e-10</td>\n",
       "      <td>3.494383e-08</td>\n",
       "      <td>9.916015e-12</td>\n",
       "      <td>1.000000e+00</td>\n",
       "    </tr>\n",
       "    <tr>\n",
       "      <th>3</th>\n",
       "      <td>Test_3</td>\n",
       "      <td>1.000000e+00</td>\n",
       "      <td>1.876774e-11</td>\n",
       "      <td>4.333987e-08</td>\n",
       "      <td>4.859804e-08</td>\n",
       "    </tr>\n",
       "    <tr>\n",
       "      <th>4</th>\n",
       "      <td>Test_4</td>\n",
       "      <td>7.352387e-06</td>\n",
       "      <td>4.908777e-04</td>\n",
       "      <td>9.995005e-01</td>\n",
       "      <td>1.230405e-06</td>\n",
       "    </tr>\n",
       "  </tbody>\n",
       "</table>\n",
       "</div>"
      ],
      "text/plain": [
       "  image_id       healthy  multiple_diseases          rust          scab\n",
       "0   Test_0  3.226034e-05       3.505256e-05  9.999325e-01  1.039862e-07\n",
       "1   Test_1  1.153907e-09       1.142887e-06  9.999987e-01  8.203622e-08\n",
       "2   Test_2  7.117664e-10       3.494383e-08  9.916015e-12  1.000000e+00\n",
       "3   Test_3  1.000000e+00       1.876774e-11  4.333987e-08  4.859804e-08\n",
       "4   Test_4  7.352387e-06       4.908777e-04  9.995005e-01  1.230405e-06"
      ]
     },
     "execution_count": 64,
     "metadata": {},
     "output_type": "execute_result"
    }
   ],
   "source": [
    "sub.head()"
   ]
  },
  {
   "cell_type": "code",
   "execution_count": 65,
   "metadata": {},
   "outputs": [],
   "source": [
    "sub.to_csv('submission_Entropy_EffNetB7_IncV3_DenseNet201.csv', index=False)\n",
    "#sub.to_csv('submission_Entropy_5_models.csv', index=False)"
   ]
  },
  {
   "cell_type": "code",
   "execution_count": 60,
   "metadata": {},
   "outputs": [
    {
     "data": {
      "text/html": [
       "<div>\n",
       "<style scoped>\n",
       "    .dataframe tbody tr th:only-of-type {\n",
       "        vertical-align: middle;\n",
       "    }\n",
       "\n",
       "    .dataframe tbody tr th {\n",
       "        vertical-align: top;\n",
       "    }\n",
       "\n",
       "    .dataframe thead th {\n",
       "        text-align: right;\n",
       "    }\n",
       "</style>\n",
       "<table border=\"1\" class=\"dataframe\">\n",
       "  <thead>\n",
       "    <tr style=\"text-align: right;\">\n",
       "      <th></th>\n",
       "      <th>image_id</th>\n",
       "      <th>healthy</th>\n",
       "      <th>multiple_diseases</th>\n",
       "      <th>rust</th>\n",
       "      <th>scab</th>\n",
       "    </tr>\n",
       "  </thead>\n",
       "  <tbody>\n",
       "    <tr>\n",
       "      <th>0</th>\n",
       "      <td>Test_0</td>\n",
       "      <td>7.729043e-06</td>\n",
       "      <td>4.265106e-03</td>\n",
       "      <td>9.957258e-01</td>\n",
       "      <td>0.000001</td>\n",
       "    </tr>\n",
       "    <tr>\n",
       "      <th>1</th>\n",
       "      <td>Test_1</td>\n",
       "      <td>5.375072e-05</td>\n",
       "      <td>2.229967e-03</td>\n",
       "      <td>9.976207e-01</td>\n",
       "      <td>0.000096</td>\n",
       "    </tr>\n",
       "    <tr>\n",
       "      <th>2</th>\n",
       "      <td>Test_2</td>\n",
       "      <td>1.505363e-07</td>\n",
       "      <td>7.449557e-07</td>\n",
       "      <td>9.929590e-08</td>\n",
       "      <td>0.999999</td>\n",
       "    </tr>\n",
       "    <tr>\n",
       "      <th>3</th>\n",
       "      <td>Test_3</td>\n",
       "      <td>9.997867e-01</td>\n",
       "      <td>1.290470e-06</td>\n",
       "      <td>1.814960e-04</td>\n",
       "      <td>0.000031</td>\n",
       "    </tr>\n",
       "    <tr>\n",
       "      <th>4</th>\n",
       "      <td>Test_4</td>\n",
       "      <td>2.621242e-05</td>\n",
       "      <td>3.380577e-03</td>\n",
       "      <td>9.963644e-01</td>\n",
       "      <td>0.000229</td>\n",
       "    </tr>\n",
       "  </tbody>\n",
       "</table>\n",
       "</div>"
      ],
      "text/plain": [
       "  image_id       healthy  multiple_diseases          rust      scab\n",
       "0   Test_0  7.729043e-06       4.265106e-03  9.957258e-01  0.000001\n",
       "1   Test_1  5.375072e-05       2.229967e-03  9.976207e-01  0.000096\n",
       "2   Test_2  1.505363e-07       7.449557e-07  9.929590e-08  0.999999\n",
       "3   Test_3  9.997867e-01       1.290470e-06  1.814960e-04  0.000031\n",
       "4   Test_4  2.621242e-05       3.380577e-03  9.963644e-01  0.000229"
      ]
     },
     "execution_count": 60,
     "metadata": {},
     "output_type": "execute_result"
    }
   ],
   "source": [
    "sub = pd.read_csv('sample_submission.csv')\n",
    "preds_avg = (sub1.loc[:, 'healthy' :] + sub2.loc[:, 'healthy' :] + sub3.loc[:, 'healthy' :] + sub4.loc[:, 'healthy' :] + sub5.loc[:, 'healthy' :]) / 5\n",
    "sub.loc[:, 'healthy':] = preds_avg\n",
    "#sub.to_csv('submission_Avg_EffNetB7_IncV3_DenseNet201.csv', index=False)\n",
    "sub.to_csv('submission_Avg_5_models.csv', index=False)\n",
    "sub.head()"
   ]
  },
  {
   "cell_type": "markdown",
   "metadata": {},
   "source": [
    "# Stacking keras LB 0.946"
   ]
  },
  {
   "cell_type": "markdown",
   "metadata": {},
   "source": [
    "1. Обучаю 5 моделей с использованием кросс-валидации. \n",
    "2. Для каждой модели рассчитываю prediction для обучаемой выборки, сохраняю. И для тестовой, сохраняю\n",
    "3. Строю НН с кросс-валидацией, где prediction по 5 моделям - это train, а labels это Y\n",
    "4. По CV оцениваю эту модель\n",
    "5. Получаю предсказания по метамодели для предсказаний для тестовой выборки\n"
   ]
  },
  {
   "cell_type": "code",
   "execution_count": 49,
   "metadata": {},
   "outputs": [],
   "source": [
    "import numpy as np \n",
    "import pandas as pd \n",
    "import os"
   ]
  },
  {
   "cell_type": "code",
   "execution_count": 122,
   "metadata": {},
   "outputs": [],
   "source": [
    "sub = pd.read_csv('sample_submission.csv')\n",
    "\n",
    "sub_train_1 = pd.read_csv('preds_EffNetB7_train.csv')\n",
    "sub_train_2 = pd.read_csv('preds_IncV3_train.csv')\n",
    "sub_train_3 = pd.read_csv('preds_DenseNet201_train.csv')\n",
    "sub_train_4 = pd.read_csv('preds_ResNet152V2_train.csv')\n",
    "sub_train_5 = pd.read_csv('preds_Xcept_train.csv')\n",
    "\n",
    "train_labels = pd.read_csv('train_labels.csv').to_numpy()\n",
    "\n",
    "sub_val_1 = pd.read_csv('preds_EffNetB7_val.csv')\n",
    "sub_val_2 = pd.read_csv('preds_IncV3_val.csv')\n",
    "sub_val_3 = pd.read_csv('preds_DenseNet201_val.csv')\n",
    "sub_val_4 = pd.read_csv('preds_ResNet152V2_val.csv')\n",
    "sub_val_5 = pd.read_csv('preds_Xcept_val.csv')\n",
    "\n",
    "valid_labels = pd.read_csv('valid_labels.csv').to_numpy()\n",
    "\n",
    "sub_test_1 = pd.read_csv('preds_EffNetB7_test.csv')\n",
    "sub_test_2 = pd.read_csv('preds_IncV3_test.csv')\n",
    "sub_test_3 = pd.read_csv('preds_DenseNet201_test.csv')\n",
    "sub_test_4 = pd.read_csv('preds_ResNet152V2_test.csv')\n",
    "sub_test_5 = pd.read_csv('preds_Xcept_test.csv')"
   ]
  },
  {
   "cell_type": "code",
   "execution_count": 51,
   "metadata": {},
   "outputs": [
    {
     "data": {
      "text/plain": [
       "(1547, 20)"
      ]
     },
     "execution_count": 51,
     "metadata": {},
     "output_type": "execute_result"
    }
   ],
   "source": [
    "pred_train = np.column_stack((sub_train_1.loc[:, 'healthy':], \n",
    "                            sub_train_2.loc[:, 'healthy':], \n",
    "                            sub_train_3.loc[:, 'healthy':], \n",
    "                            sub_train_4.loc[:, 'healthy':], \n",
    "                            sub_train_5.loc[:, 'healthy':]\n",
    "                            ))\n",
    "pred_train.shape"
   ]
  },
  {
   "cell_type": "code",
   "execution_count": 52,
   "metadata": {},
   "outputs": [
    {
     "data": {
      "text/plain": [
       "(274, 20)"
      ]
     },
     "execution_count": 52,
     "metadata": {},
     "output_type": "execute_result"
    }
   ],
   "source": [
    "pred_val = np.column_stack((sub_val_1.loc[:, 'healthy':], \n",
    "                            sub_val_2.loc[:, 'healthy':], \n",
    "                            sub_val_3.loc[:, 'healthy':],\n",
    "                            sub_val_4.loc[:, 'healthy':], \n",
    "                            sub_val_5.loc[:, 'healthy':]\n",
    "                          ))\n",
    "pred_val.shape"
   ]
  },
  {
   "cell_type": "code",
   "execution_count": 53,
   "metadata": {},
   "outputs": [
    {
     "data": {
      "text/plain": [
       "(1821, 20)"
      ]
     },
     "execution_count": 53,
     "metadata": {},
     "output_type": "execute_result"
    }
   ],
   "source": [
    "pred_test = np.column_stack((sub_test_1.loc[:, 'healthy':], \n",
    "                            sub_test_2.loc[:, 'healthy':], \n",
    "                            sub_test_3.loc[:, 'healthy':],\n",
    "                            sub_test_4.loc[:, 'healthy':], \n",
    "                            sub_test_5.loc[:, 'healthy':]\n",
    "                           ))\n",
    "pred_test.shape"
   ]
  },
  {
   "cell_type": "code",
   "execution_count": 54,
   "metadata": {},
   "outputs": [],
   "source": [
    "import tensorflow as tf\n",
    "from tensorflow import keras\n",
    "\n",
    "import warnings\n",
    "warnings.filterwarnings(\"ignore\")"
   ]
  },
  {
   "cell_type": "code",
   "execution_count": 89,
   "metadata": {},
   "outputs": [],
   "source": [
    "from tensorflow.keras import layers\n",
    "\n",
    "model = tf.keras.Sequential([\n",
    "layers.Dense(128, activation='sigmoid', input_shape=(20,)),\n",
    "layers.Dropout(0.5),\n",
    "layers.Dense(64, activation='sigmoid'),\n",
    "layers.Dropout(0.5),\n",
    "layers.Dense(4, activation='sigmoid')])\n",
    "\n",
    "model.compile(\n",
    "        optimizer = 'adam',\n",
    "        loss = 'categorical_crossentropy',\n",
    "        metrics=['categorical_accuracy'])"
   ]
  },
  {
   "cell_type": "code",
   "execution_count": 90,
   "metadata": {},
   "outputs": [
    {
     "name": "stdout",
     "output_type": "stream",
     "text": [
      "Train on 1547 samples, validate on 274 samples\n",
      "Epoch 1/100\n",
      "1547/1547 [==============================] - 1s 450us/sample - loss: 1.2711 - categorical_accuracy: 0.3652 - val_loss: 1.1546 - val_categorical_accuracy: 0.6533\n",
      "Epoch 2/100\n",
      "1547/1547 [==============================] - 0s 142us/sample - loss: 1.0393 - categorical_accuracy: 0.6464 - val_loss: 0.6919 - val_categorical_accuracy: 0.9489\n",
      "Epoch 3/100\n",
      "1547/1547 [==============================] - 0s 142us/sample - loss: 0.5225 - categorical_accuracy: 0.9095 - val_loss: 0.2439 - val_categorical_accuracy: 0.9489\n",
      "Epoch 4/100\n",
      "1547/1547 [==============================] - 0s 143us/sample - loss: 0.2399 - categorical_accuracy: 0.9580 - val_loss: 0.1675 - val_categorical_accuracy: 0.9599\n",
      "Epoch 5/100\n",
      "1547/1547 [==============================] - 0s 137us/sample - loss: 0.1426 - categorical_accuracy: 0.9761 - val_loss: 0.1476 - val_categorical_accuracy: 0.9562\n",
      "Epoch 6/100\n",
      "1547/1547 [==============================] - 0s 146us/sample - loss: 0.0948 - categorical_accuracy: 0.9897 - val_loss: 0.1456 - val_categorical_accuracy: 0.9562\n",
      "Epoch 7/100\n",
      "1547/1547 [==============================] - 0s 143us/sample - loss: 0.0693 - categorical_accuracy: 0.9884 - val_loss: 0.1471 - val_categorical_accuracy: 0.9599\n",
      "Epoch 8/100\n",
      "1547/1547 [==============================] - 0s 188us/sample - loss: 0.0518 - categorical_accuracy: 0.9942 - val_loss: 0.1528 - val_categorical_accuracy: 0.9635\n",
      "Epoch 9/100\n",
      "1547/1547 [==============================] - 0s 132us/sample - loss: 0.0429 - categorical_accuracy: 0.9955 - val_loss: 0.1569 - val_categorical_accuracy: 0.9599\n",
      "Epoch 10/100\n",
      "1547/1547 [==============================] - 0s 149us/sample - loss: 0.0375 - categorical_accuracy: 0.9961 - val_loss: 0.1641 - val_categorical_accuracy: 0.9599\n",
      "Epoch 11/100\n",
      "1547/1547 [==============================] - 0s 159us/sample - loss: 0.0301 - categorical_accuracy: 0.9974 - val_loss: 0.1683 - val_categorical_accuracy: 0.9635\n",
      "Epoch 12/100\n",
      "1547/1547 [==============================] - 0s 143us/sample - loss: 0.0241 - categorical_accuracy: 0.9987 - val_loss: 0.1755 - val_categorical_accuracy: 0.9599\n",
      "Epoch 13/100\n",
      "1547/1547 [==============================] - 0s 140us/sample - loss: 0.0216 - categorical_accuracy: 0.9974 - val_loss: 0.1799 - val_categorical_accuracy: 0.9599\n",
      "Epoch 14/100\n",
      "1547/1547 [==============================] - 0s 158us/sample - loss: 0.0213 - categorical_accuracy: 0.9974 - val_loss: 0.1865 - val_categorical_accuracy: 0.9599\n",
      "Epoch 15/100\n",
      "1547/1547 [==============================] - 0s 150us/sample - loss: 0.0168 - categorical_accuracy: 0.9987 - val_loss: 0.1906 - val_categorical_accuracy: 0.9599\n",
      "Epoch 16/100\n",
      "1547/1547 [==============================] - 0s 157us/sample - loss: 0.0161 - categorical_accuracy: 0.9981 - val_loss: 0.1959 - val_categorical_accuracy: 0.9599\n",
      "Epoch 17/100\n",
      "1547/1547 [==============================] - 0s 140us/sample - loss: 0.0173 - categorical_accuracy: 0.9981 - val_loss: 0.1995 - val_categorical_accuracy: 0.9599\n",
      "Epoch 18/100\n",
      "1547/1547 [==============================] - 0s 162us/sample - loss: 0.0145 - categorical_accuracy: 0.9987 - val_loss: 0.2033 - val_categorical_accuracy: 0.9599\n",
      "Epoch 19/100\n",
      "1547/1547 [==============================] - 0s 144us/sample - loss: 0.0110 - categorical_accuracy: 0.9994 - val_loss: 0.2110 - val_categorical_accuracy: 0.9599\n",
      "Epoch 20/100\n",
      "1547/1547 [==============================] - 0s 148us/sample - loss: 0.0125 - categorical_accuracy: 0.9968 - val_loss: 0.2132 - val_categorical_accuracy: 0.9599\n",
      "Epoch 21/100\n",
      "1547/1547 [==============================] - 0s 146us/sample - loss: 0.0107 - categorical_accuracy: 0.9994 - val_loss: 0.2172 - val_categorical_accuracy: 0.9599\n",
      "Epoch 22/100\n",
      "1547/1547 [==============================] - 0s 144us/sample - loss: 0.0126 - categorical_accuracy: 0.9987 - val_loss: 0.2189 - val_categorical_accuracy: 0.9599\n",
      "Epoch 23/100\n",
      "1547/1547 [==============================] - 0s 159us/sample - loss: 0.0107 - categorical_accuracy: 0.9974 - val_loss: 0.2204 - val_categorical_accuracy: 0.9599\n",
      "Epoch 24/100\n",
      "1547/1547 [==============================] - 0s 146us/sample - loss: 0.0080 - categorical_accuracy: 1.0000 - val_loss: 0.2284 - val_categorical_accuracy: 0.9599\n",
      "Epoch 25/100\n",
      "1547/1547 [==============================] - 0s 142us/sample - loss: 0.0075 - categorical_accuracy: 0.9994 - val_loss: 0.2343 - val_categorical_accuracy: 0.9635\n",
      "Epoch 26/100\n",
      "1547/1547 [==============================] - 0s 141us/sample - loss: 0.0080 - categorical_accuracy: 0.9994 - val_loss: 0.2370 - val_categorical_accuracy: 0.9635\n",
      "Epoch 27/100\n",
      "1547/1547 [==============================] - 0s 144us/sample - loss: 0.0100 - categorical_accuracy: 0.9987 - val_loss: 0.2373 - val_categorical_accuracy: 0.9635\n",
      "Epoch 28/100\n",
      "1547/1547 [==============================] - 0s 155us/sample - loss: 0.0071 - categorical_accuracy: 0.9987 - val_loss: 0.2411 - val_categorical_accuracy: 0.9635\n",
      "Epoch 29/100\n",
      "1547/1547 [==============================] - 0s 150us/sample - loss: 0.0091 - categorical_accuracy: 0.9987 - val_loss: 0.2455 - val_categorical_accuracy: 0.9635\n",
      "Epoch 30/100\n",
      "1547/1547 [==============================] - 0s 142us/sample - loss: 0.0075 - categorical_accuracy: 0.9987 - val_loss: 0.2466 - val_categorical_accuracy: 0.9599\n",
      "Epoch 31/100\n",
      "1547/1547 [==============================] - 0s 158us/sample - loss: 0.0064 - categorical_accuracy: 0.9987 - val_loss: 0.2469 - val_categorical_accuracy: 0.9599\n",
      "Epoch 32/100\n",
      "1547/1547 [==============================] - 0s 148us/sample - loss: 0.0069 - categorical_accuracy: 0.9987 - val_loss: 0.2465 - val_categorical_accuracy: 0.9599\n",
      "Epoch 33/100\n",
      "1547/1547 [==============================] - 0s 157us/sample - loss: 0.0074 - categorical_accuracy: 0.9987 - val_loss: 0.2482 - val_categorical_accuracy: 0.9599\n",
      "Epoch 34/100\n",
      "1547/1547 [==============================] - 0s 159us/sample - loss: 0.0048 - categorical_accuracy: 1.0000 - val_loss: 0.2522 - val_categorical_accuracy: 0.9599\n",
      "Epoch 35/100\n",
      "1547/1547 [==============================] - 0s 141us/sample - loss: 0.0047 - categorical_accuracy: 0.9994 - val_loss: 0.2572 - val_categorical_accuracy: 0.9599\n",
      "Epoch 36/100\n",
      "1547/1547 [==============================] - 0s 157us/sample - loss: 0.0047 - categorical_accuracy: 0.9994 - val_loss: 0.2624 - val_categorical_accuracy: 0.9599\n",
      "Epoch 37/100\n",
      "1547/1547 [==============================] - 0s 146us/sample - loss: 0.0037 - categorical_accuracy: 0.9994 - val_loss: 0.2676 - val_categorical_accuracy: 0.9635\n",
      "Epoch 38/100\n",
      "1547/1547 [==============================] - 0s 142us/sample - loss: 0.0041 - categorical_accuracy: 1.0000 - val_loss: 0.2659 - val_categorical_accuracy: 0.9599\n",
      "Epoch 39/100\n",
      "1547/1547 [==============================] - 0s 139us/sample - loss: 0.0071 - categorical_accuracy: 0.9987 - val_loss: 0.2747 - val_categorical_accuracy: 0.9635\n",
      "Epoch 40/100\n",
      "1547/1547 [==============================] - 0s 137us/sample - loss: 0.0057 - categorical_accuracy: 0.9981 - val_loss: 0.2739 - val_categorical_accuracy: 0.9635\n",
      "Epoch 41/100\n",
      "1547/1547 [==============================] - 0s 141us/sample - loss: 0.0051 - categorical_accuracy: 0.9987 - val_loss: 0.2759 - val_categorical_accuracy: 0.9599\n",
      "Epoch 42/100\n",
      "1547/1547 [==============================] - 0s 140us/sample - loss: 0.0043 - categorical_accuracy: 0.9987 - val_loss: 0.2752 - val_categorical_accuracy: 0.9599\n",
      "Epoch 43/100\n",
      "1547/1547 [==============================] - 0s 136us/sample - loss: 0.0056 - categorical_accuracy: 0.9994 - val_loss: 0.2815 - val_categorical_accuracy: 0.9635\n",
      "Epoch 44/100\n",
      "1547/1547 [==============================] - 0s 137us/sample - loss: 0.0037 - categorical_accuracy: 0.9994 - val_loss: 0.2797 - val_categorical_accuracy: 0.9599\n",
      "Epoch 45/100\n",
      "1547/1547 [==============================] - 0s 144us/sample - loss: 0.0056 - categorical_accuracy: 0.9994 - val_loss: 0.2814 - val_categorical_accuracy: 0.9599\n",
      "Epoch 46/100\n",
      "1547/1547 [==============================] - 0s 142us/sample - loss: 0.0041 - categorical_accuracy: 0.9994 - val_loss: 0.2896 - val_categorical_accuracy: 0.9635\n",
      "Epoch 47/100\n",
      "1547/1547 [==============================] - 0s 141us/sample - loss: 0.0056 - categorical_accuracy: 0.9987 - val_loss: 0.2888 - val_categorical_accuracy: 0.9635\n"
     ]
    },
    {
     "name": "stdout",
     "output_type": "stream",
     "text": [
      "Epoch 48/100\n",
      "1547/1547 [==============================] - 0s 133us/sample - loss: 0.0025 - categorical_accuracy: 1.0000 - val_loss: 0.2925 - val_categorical_accuracy: 0.9635\n",
      "Epoch 49/100\n",
      "1547/1547 [==============================] - 0s 134us/sample - loss: 0.0045 - categorical_accuracy: 0.9994 - val_loss: 0.2954 - val_categorical_accuracy: 0.9635\n",
      "Epoch 50/100\n",
      "1547/1547 [==============================] - 0s 133us/sample - loss: 0.0027 - categorical_accuracy: 0.9994 - val_loss: 0.3022 - val_categorical_accuracy: 0.9672\n",
      "Epoch 51/100\n",
      "1547/1547 [==============================] - 0s 133us/sample - loss: 0.0034 - categorical_accuracy: 0.9994 - val_loss: 0.3056 - val_categorical_accuracy: 0.9672\n",
      "Epoch 52/100\n",
      "1547/1547 [==============================] - 0s 132us/sample - loss: 0.0023 - categorical_accuracy: 1.0000 - val_loss: 0.3095 - val_categorical_accuracy: 0.9672\n",
      "Epoch 53/100\n",
      "1547/1547 [==============================] - 0s 130us/sample - loss: 0.0020 - categorical_accuracy: 1.0000 - val_loss: 0.3082 - val_categorical_accuracy: 0.9635\n",
      "Epoch 54/100\n",
      "1547/1547 [==============================] - 0s 130us/sample - loss: 0.0023 - categorical_accuracy: 0.9994 - val_loss: 0.3093 - val_categorical_accuracy: 0.9635\n",
      "Epoch 55/100\n",
      "1547/1547 [==============================] - 0s 134us/sample - loss: 0.0016 - categorical_accuracy: 1.0000 - val_loss: 0.3116 - val_categorical_accuracy: 0.9635\n",
      "Epoch 56/100\n",
      "1547/1547 [==============================] - 0s 131us/sample - loss: 0.0072 - categorical_accuracy: 0.9987 - val_loss: 0.3084 - val_categorical_accuracy: 0.9635\n",
      "Epoch 57/100\n",
      "1547/1547 [==============================] - 0s 136us/sample - loss: 0.0019 - categorical_accuracy: 1.0000 - val_loss: 0.3094 - val_categorical_accuracy: 0.9635\n",
      "Epoch 58/100\n",
      "1547/1547 [==============================] - 0s 132us/sample - loss: 0.0041 - categorical_accuracy: 0.9994 - val_loss: 0.3078 - val_categorical_accuracy: 0.9635\n",
      "Epoch 59/100\n",
      "1547/1547 [==============================] - 0s 139us/sample - loss: 0.0040 - categorical_accuracy: 0.9994 - val_loss: 0.3139 - val_categorical_accuracy: 0.9635\n",
      "Epoch 60/100\n",
      "1547/1547 [==============================] - 0s 138us/sample - loss: 0.0021 - categorical_accuracy: 0.9994 - val_loss: 0.3116 - val_categorical_accuracy: 0.9635\n",
      "Epoch 61/100\n",
      "1547/1547 [==============================] - 0s 142us/sample - loss: 0.0028 - categorical_accuracy: 0.9994 - val_loss: 0.3134 - val_categorical_accuracy: 0.9635\n",
      "Epoch 62/100\n",
      "1547/1547 [==============================] - 0s 136us/sample - loss: 0.0023 - categorical_accuracy: 1.0000 - val_loss: 0.3203 - val_categorical_accuracy: 0.9635\n",
      "Epoch 63/100\n",
      "1547/1547 [==============================] - 0s 138us/sample - loss: 0.0037 - categorical_accuracy: 0.9994 - val_loss: 0.3284 - val_categorical_accuracy: 0.9672\n",
      "Epoch 64/100\n",
      "1547/1547 [==============================] - 0s 135us/sample - loss: 0.0042 - categorical_accuracy: 0.9987 - val_loss: 0.3220 - val_categorical_accuracy: 0.9635\n",
      "Epoch 65/100\n",
      "1547/1547 [==============================] - 0s 135us/sample - loss: 0.0045 - categorical_accuracy: 0.9987 - val_loss: 0.3186 - val_categorical_accuracy: 0.9635\n",
      "Epoch 66/100\n",
      "1547/1547 [==============================] - 0s 139us/sample - loss: 0.0034 - categorical_accuracy: 0.9994 - val_loss: 0.3240 - val_categorical_accuracy: 0.9635\n",
      "Epoch 67/100\n",
      "1547/1547 [==============================] - 0s 131us/sample - loss: 0.0048 - categorical_accuracy: 0.9987 - val_loss: 0.3247 - val_categorical_accuracy: 0.9672\n",
      "Epoch 68/100\n",
      "1547/1547 [==============================] - 0s 178us/sample - loss: 0.0038 - categorical_accuracy: 0.9994 - val_loss: 0.3200 - val_categorical_accuracy: 0.9635\n",
      "Epoch 69/100\n",
      "1547/1547 [==============================] - 0s 141us/sample - loss: 0.0051 - categorical_accuracy: 0.9987 - val_loss: 0.3148 - val_categorical_accuracy: 0.9635\n",
      "Epoch 70/100\n",
      "1547/1547 [==============================] - 0s 139us/sample - loss: 0.0029 - categorical_accuracy: 0.9987 - val_loss: 0.3175 - val_categorical_accuracy: 0.9635\n",
      "Epoch 71/100\n",
      "1547/1547 [==============================] - 0s 139us/sample - loss: 0.0026 - categorical_accuracy: 0.9987 - val_loss: 0.3198 - val_categorical_accuracy: 0.9635\n",
      "Epoch 72/100\n",
      "1547/1547 [==============================] - 0s 136us/sample - loss: 0.0022 - categorical_accuracy: 0.9994 - val_loss: 0.3259 - val_categorical_accuracy: 0.9635\n",
      "Epoch 73/100\n",
      "1547/1547 [==============================] - 0s 137us/sample - loss: 0.0026 - categorical_accuracy: 0.9994 - val_loss: 0.3276 - val_categorical_accuracy: 0.9672\n",
      "Epoch 74/100\n",
      "1547/1547 [==============================] - 0s 138us/sample - loss: 0.0060 - categorical_accuracy: 0.9994 - val_loss: 0.3283 - val_categorical_accuracy: 0.9672\n",
      "Epoch 75/100\n",
      "1547/1547 [==============================] - 0s 137us/sample - loss: 0.0019 - categorical_accuracy: 0.9994 - val_loss: 0.3358 - val_categorical_accuracy: 0.9672\n",
      "Epoch 76/100\n",
      "1547/1547 [==============================] - 0s 139us/sample - loss: 0.0017 - categorical_accuracy: 1.0000 - val_loss: 0.3357 - val_categorical_accuracy: 0.9635\n",
      "Epoch 77/100\n",
      "1547/1547 [==============================] - 0s 137us/sample - loss: 0.0021 - categorical_accuracy: 0.9994 - val_loss: 0.3411 - val_categorical_accuracy: 0.9708\n",
      "Epoch 78/100\n",
      "1547/1547 [==============================] - 0s 142us/sample - loss: 0.0033 - categorical_accuracy: 0.9994 - val_loss: 0.3336 - val_categorical_accuracy: 0.9635\n",
      "Epoch 79/100\n",
      "1547/1547 [==============================] - 0s 139us/sample - loss: 0.0022 - categorical_accuracy: 0.9994 - val_loss: 0.3337 - val_categorical_accuracy: 0.9635\n",
      "Epoch 80/100\n",
      "1547/1547 [==============================] - 0s 142us/sample - loss: 0.0026 - categorical_accuracy: 0.9994 - val_loss: 0.3302 - val_categorical_accuracy: 0.9635\n",
      "Epoch 81/100\n",
      "1547/1547 [==============================] - 0s 135us/sample - loss: 0.0032 - categorical_accuracy: 0.9994 - val_loss: 0.3421 - val_categorical_accuracy: 0.9708\n",
      "Epoch 82/100\n",
      "1547/1547 [==============================] - 0s 146us/sample - loss: 0.0035 - categorical_accuracy: 0.9987 - val_loss: 0.3319 - val_categorical_accuracy: 0.9672\n",
      "Epoch 83/100\n",
      "1547/1547 [==============================] - 0s 145us/sample - loss: 0.0020 - categorical_accuracy: 0.9994 - val_loss: 0.3297 - val_categorical_accuracy: 0.9635\n",
      "Epoch 84/100\n",
      "1547/1547 [==============================] - 0s 140us/sample - loss: 0.0027 - categorical_accuracy: 0.9994 - val_loss: 0.3383 - val_categorical_accuracy: 0.9672\n",
      "Epoch 85/100\n",
      "1547/1547 [==============================] - 0s 138us/sample - loss: 0.0038 - categorical_accuracy: 0.9987 - val_loss: 0.3421 - val_categorical_accuracy: 0.9672\n",
      "Epoch 86/100\n",
      "1547/1547 [==============================] - 0s 140us/sample - loss: 0.0064 - categorical_accuracy: 0.9987 - val_loss: 0.3411 - val_categorical_accuracy: 0.9635\n",
      "Epoch 87/100\n",
      "1547/1547 [==============================] - 0s 142us/sample - loss: 0.0023 - categorical_accuracy: 0.9987 - val_loss: 0.3406 - val_categorical_accuracy: 0.9672\n",
      "Epoch 88/100\n",
      "1547/1547 [==============================] - 0s 149us/sample - loss: 0.0040 - categorical_accuracy: 0.9994 - val_loss: 0.3334 - val_categorical_accuracy: 0.9635\n",
      "Epoch 89/100\n",
      "1547/1547 [==============================] - 0s 142us/sample - loss: 0.0017 - categorical_accuracy: 0.9994 - val_loss: 0.3376 - val_categorical_accuracy: 0.9635\n",
      "Epoch 90/100\n",
      "1547/1547 [==============================] - 0s 139us/sample - loss: 4.5001e-04 - categorical_accuracy: 1.0000 - val_loss: 0.3409 - val_categorical_accuracy: 0.9635\n",
      "Epoch 91/100\n",
      "1547/1547 [==============================] - 0s 140us/sample - loss: 8.5161e-04 - categorical_accuracy: 1.0000 - val_loss: 0.3440 - val_categorical_accuracy: 0.9635\n",
      "Epoch 92/100\n",
      "1547/1547 [==============================] - 0s 145us/sample - loss: 0.0043 - categorical_accuracy: 0.9994 - val_loss: 0.3463 - val_categorical_accuracy: 0.9635\n",
      "Epoch 93/100\n",
      "1547/1547 [==============================] - 0s 142us/sample - loss: 0.0014 - categorical_accuracy: 0.9994 - val_loss: 0.3476 - val_categorical_accuracy: 0.9635\n",
      "Epoch 94/100\n",
      "1547/1547 [==============================] - 0s 139us/sample - loss: 0.0037 - categorical_accuracy: 0.9994 - val_loss: 0.3541 - val_categorical_accuracy: 0.9635\n",
      "Epoch 95/100\n"
     ]
    },
    {
     "name": "stdout",
     "output_type": "stream",
     "text": [
      "1547/1547 [==============================] - 0s 139us/sample - loss: 0.0016 - categorical_accuracy: 0.9994 - val_loss: 0.3585 - val_categorical_accuracy: 0.9635\n",
      "Epoch 96/100\n",
      "1547/1547 [==============================] - 0s 136us/sample - loss: 0.0032 - categorical_accuracy: 0.9987 - val_loss: 0.3599 - val_categorical_accuracy: 0.9635\n",
      "Epoch 97/100\n",
      "1547/1547 [==============================] - 0s 141us/sample - loss: 0.0010 - categorical_accuracy: 1.0000 - val_loss: 0.3603 - val_categorical_accuracy: 0.9635\n",
      "Epoch 98/100\n",
      "1547/1547 [==============================] - 0s 135us/sample - loss: 0.0059 - categorical_accuracy: 0.9994 - val_loss: 0.3709 - val_categorical_accuracy: 0.9708\n",
      "Epoch 99/100\n",
      "1547/1547 [==============================] - 0s 130us/sample - loss: 8.9535e-04 - categorical_accuracy: 1.0000 - val_loss: 0.3740 - val_categorical_accuracy: 0.9672\n",
      "Epoch 100/100\n",
      "1547/1547 [==============================] - 0s 136us/sample - loss: 8.7763e-04 - categorical_accuracy: 1.0000 - val_loss: 0.3767 - val_categorical_accuracy: 0.9635\n"
     ]
    }
   ],
   "source": [
    "history = model.fit(pred_train, train_labels, epochs=100, batch_size=16,\n",
    "          validation_data=(pred_val, valid_labels))"
   ]
  },
  {
   "cell_type": "code",
   "execution_count": 91,
   "metadata": {},
   "outputs": [
    {
     "data": {
      "image/png": "[encoded data removed]",
      "text/plain": [
       "<Figure size 432x288 with 1 Axes>"
      ]
     },
     "metadata": {
      "needs_background": "light"
     },
     "output_type": "display_data"
    },
    {
     "data": {
      "image/png": "[encoded data removed]",
      "text/plain": [
       "<Figure size 432x288 with 1 Axes>"
      ]
     },
     "metadata": {
      "needs_background": "light"
     },
     "output_type": "display_data"
    }
   ],
   "source": [
    "import matplotlib.pyplot as plt\n",
    "\n",
    "acc = history.history['categorical_accuracy']\n",
    "loss = history.history['loss']\n",
    "val_acc = history.history['val_categorical_accuracy']\n",
    "val_loss = history.history['val_loss']\n",
    "\n",
    "epochs = range(len(acc))\n",
    "\n",
    "plt.plot(epochs, acc, 'bo', label='Training accuracy')\n",
    "plt.plot(epochs, val_acc, 'b', label='Validation accuracy')\n",
    "plt.title('Accuracy')\n",
    "\n",
    "plt.figure()\n",
    "\n",
    "plt.plot(epochs, loss, 'bo', label='Training Loss')\n",
    "plt.plot(epochs, val_loss, 'b', label='Validation Loss')\n",
    "plt.title('Loss')\n",
    "plt.legend()\n",
    "\n",
    "plt.show()"
   ]
  },
  {
   "cell_type": "code",
   "execution_count": 35,
   "metadata": {},
   "outputs": [],
   "source": [
    "result = model.predict(pred_test, batch_size=32)"
   ]
  },
  {
   "cell_type": "code",
   "execution_count": 37,
   "metadata": {},
   "outputs": [
    {
     "data": {
      "text/html": [
       "<div>\n",
       "<style scoped>\n",
       "    .dataframe tbody tr th:only-of-type {\n",
       "        vertical-align: middle;\n",
       "    }\n",
       "\n",
       "    .dataframe tbody tr th {\n",
       "        vertical-align: top;\n",
       "    }\n",
       "\n",
       "    .dataframe thead th {\n",
       "        text-align: right;\n",
       "    }\n",
       "</style>\n",
       "<table border=\"1\" class=\"dataframe\">\n",
       "  <thead>\n",
       "    <tr style=\"text-align: right;\">\n",
       "      <th></th>\n",
       "      <th>image_id</th>\n",
       "      <th>healthy</th>\n",
       "      <th>multiple_diseases</th>\n",
       "      <th>rust</th>\n",
       "      <th>scab</th>\n",
       "    </tr>\n",
       "  </thead>\n",
       "  <tbody>\n",
       "    <tr>\n",
       "      <th>0</th>\n",
       "      <td>Test_0</td>\n",
       "      <td>3.879749e-22</td>\n",
       "      <td>4.918325e-15</td>\n",
       "      <td>1.000000e+00</td>\n",
       "      <td>1.096902e-10</td>\n",
       "    </tr>\n",
       "    <tr>\n",
       "      <th>1</th>\n",
       "      <td>Test_1</td>\n",
       "      <td>2.051398e-22</td>\n",
       "      <td>2.942911e-15</td>\n",
       "      <td>1.000000e+00</td>\n",
       "      <td>7.882055e-11</td>\n",
       "    </tr>\n",
       "    <tr>\n",
       "      <th>2</th>\n",
       "      <td>Test_2</td>\n",
       "      <td>1.704637e-22</td>\n",
       "      <td>2.062687e-17</td>\n",
       "      <td>1.859081e-24</td>\n",
       "      <td>1.000000e+00</td>\n",
       "    </tr>\n",
       "    <tr>\n",
       "      <th>3</th>\n",
       "      <td>Test_3</td>\n",
       "      <td>1.000000e+00</td>\n",
       "      <td>1.252661e-14</td>\n",
       "      <td>1.276729e-21</td>\n",
       "      <td>1.410454e-09</td>\n",
       "    </tr>\n",
       "    <tr>\n",
       "      <th>4</th>\n",
       "      <td>Test_4</td>\n",
       "      <td>2.371082e-22</td>\n",
       "      <td>3.293428e-15</td>\n",
       "      <td>1.000000e+00</td>\n",
       "      <td>8.557685e-11</td>\n",
       "    </tr>\n",
       "  </tbody>\n",
       "</table>\n",
       "</div>"
      ],
      "text/plain": [
       "  image_id       healthy  multiple_diseases          rust          scab\n",
       "0   Test_0  3.879749e-22       4.918325e-15  1.000000e+00  1.096902e-10\n",
       "1   Test_1  2.051398e-22       2.942911e-15  1.000000e+00  7.882055e-11\n",
       "2   Test_2  1.704637e-22       2.062687e-17  1.859081e-24  1.000000e+00\n",
       "3   Test_3  1.000000e+00       1.252661e-14  1.276729e-21  1.410454e-09\n",
       "4   Test_4  2.371082e-22       3.293428e-15  1.000000e+00  8.557685e-11"
      ]
     },
     "execution_count": 37,
     "metadata": {},
     "output_type": "execute_result"
    }
   ],
   "source": [
    "sub.loc[:, 'healthy':] = result\n",
    "sub.to_csv('submission_3_models_Keras.csv', index=False)\n",
    "sub.head()"
   ]
  },
  {
   "cell_type": "markdown",
   "metadata": {},
   "source": [
    "# AdaBoost LB 0.904"
   ]
  },
  {
   "cell_type": "code",
   "execution_count": 104,
   "metadata": {},
   "outputs": [],
   "source": [
    "from sklearn.model_selection import cross_val_score\n",
    "from sklearn.ensemble import AdaBoostClassifier\n",
    "from sklearn import metrics\n",
    "\n",
    "clf = AdaBoostClassifier(n_estimators=100)"
   ]
  },
  {
   "cell_type": "code",
   "execution_count": 109,
   "metadata": {},
   "outputs": [
    {
     "name": "stdout",
     "output_type": "stream",
     "text": [
      "scores mean:  1.0\n",
      "accuracy_score:  0.9963503649635036\n"
     ]
    }
   ],
   "source": [
    "model = clf.fit(pred_train, train_labels[:, 0])\n",
    "result0 = model.predict(pred_test)\n",
    "\n",
    "scores = cross_val_score(clf, pred_train, train_labels[:, 0], cv=5)\n",
    "print('scores mean: ', scores.mean())\n",
    "\n",
    "result_val = model.predict(pred_val)\n",
    "print('accuracy_score: ', metrics.accuracy_score(valid_labels[:, 0], result_val))"
   ]
  },
  {
   "cell_type": "code",
   "execution_count": 105,
   "metadata": {},
   "outputs": [
    {
     "name": "stdout",
     "output_type": "stream",
     "text": [
      "scores mean:  0.9993548387096775\n",
      "accuracy_score:  0.9708029197080292\n"
     ]
    }
   ],
   "source": [
    "model = clf.fit(pred_train, train_labels[:, 1])\n",
    "result1 = model.predict(pred_test)\n",
    "\n",
    "scores = cross_val_score(clf, pred_train, train_labels[:, 1], cv=5)\n",
    "print('scores mean: ', scores.mean())\n",
    "\n",
    "result_val = model.predict(pred_val)\n",
    "print('accuracy_score: ', metrics.accuracy_score(valid_labels[:, 1], result_val))"
   ]
  },
  {
   "cell_type": "code",
   "execution_count": 106,
   "metadata": {},
   "outputs": [
    {
     "name": "stdout",
     "output_type": "stream",
     "text": [
      "scores mean:  1.0\n",
      "accuracy_score:  0.9890510948905109\n"
     ]
    }
   ],
   "source": [
    "model = clf.fit(pred_train, train_labels[:, 2])\n",
    "result2 = model.predict(pred_test)\n",
    "\n",
    "scores = cross_val_score(clf, pred_train, train_labels[:, 2], cv=5)\n",
    "print('scores mean: ', scores.mean())\n",
    "\n",
    "result_val = model.predict(pred_val)\n",
    "print('accuracy_score: ', metrics.accuracy_score(valid_labels[:, 2], result_val))"
   ]
  },
  {
   "cell_type": "code",
   "execution_count": 107,
   "metadata": {},
   "outputs": [
    {
     "name": "stdout",
     "output_type": "stream",
     "text": [
      "scores mean:  0.998705501618123\n",
      "accuracy_score:  0.9854014598540146\n"
     ]
    }
   ],
   "source": [
    "model = clf.fit(pred_train, train_labels[:, 3])\n",
    "result3 = model.predict(pred_test)\n",
    "\n",
    "scores = cross_val_score(clf, pred_train, train_labels[:, 3], cv=5)\n",
    "print('scores mean: ', scores.mean())\n",
    "\n",
    "result_val = model.predict(pred_val)\n",
    "print('accuracy_score: ', metrics.accuracy_score(valid_labels[:, 3], result_val))"
   ]
  },
  {
   "cell_type": "code",
   "execution_count": 111,
   "metadata": {},
   "outputs": [
    {
     "data": {
      "text/plain": [
       "(1821, 4)"
      ]
     },
     "execution_count": 111,
     "metadata": {},
     "output_type": "execute_result"
    }
   ],
   "source": [
    "result = np.column_stack((result0, \n",
    "                            result1, \n",
    "                            result2,\n",
    "                            result3\n",
    "                          ))\n",
    "result.shape"
   ]
  },
  {
   "cell_type": "code",
   "execution_count": 112,
   "metadata": {},
   "outputs": [
    {
     "data": {
      "text/html": [
       "<div>\n",
       "<style scoped>\n",
       "    .dataframe tbody tr th:only-of-type {\n",
       "        vertical-align: middle;\n",
       "    }\n",
       "\n",
       "    .dataframe tbody tr th {\n",
       "        vertical-align: top;\n",
       "    }\n",
       "\n",
       "    .dataframe thead th {\n",
       "        text-align: right;\n",
       "    }\n",
       "</style>\n",
       "<table border=\"1\" class=\"dataframe\">\n",
       "  <thead>\n",
       "    <tr style=\"text-align: right;\">\n",
       "      <th></th>\n",
       "      <th>image_id</th>\n",
       "      <th>healthy</th>\n",
       "      <th>multiple_diseases</th>\n",
       "      <th>rust</th>\n",
       "      <th>scab</th>\n",
       "    </tr>\n",
       "  </thead>\n",
       "  <tbody>\n",
       "    <tr>\n",
       "      <th>0</th>\n",
       "      <td>Test_0</td>\n",
       "      <td>0</td>\n",
       "      <td>0</td>\n",
       "      <td>1</td>\n",
       "      <td>0</td>\n",
       "    </tr>\n",
       "    <tr>\n",
       "      <th>1</th>\n",
       "      <td>Test_1</td>\n",
       "      <td>0</td>\n",
       "      <td>0</td>\n",
       "      <td>1</td>\n",
       "      <td>0</td>\n",
       "    </tr>\n",
       "    <tr>\n",
       "      <th>2</th>\n",
       "      <td>Test_2</td>\n",
       "      <td>0</td>\n",
       "      <td>0</td>\n",
       "      <td>0</td>\n",
       "      <td>1</td>\n",
       "    </tr>\n",
       "    <tr>\n",
       "      <th>3</th>\n",
       "      <td>Test_3</td>\n",
       "      <td>1</td>\n",
       "      <td>0</td>\n",
       "      <td>0</td>\n",
       "      <td>0</td>\n",
       "    </tr>\n",
       "    <tr>\n",
       "      <th>4</th>\n",
       "      <td>Test_4</td>\n",
       "      <td>0</td>\n",
       "      <td>0</td>\n",
       "      <td>1</td>\n",
       "      <td>0</td>\n",
       "    </tr>\n",
       "  </tbody>\n",
       "</table>\n",
       "</div>"
      ],
      "text/plain": [
       "  image_id  healthy  multiple_diseases  rust  scab\n",
       "0   Test_0        0                  0     1     0\n",
       "1   Test_1        0                  0     1     0\n",
       "2   Test_2        0                  0     0     1\n",
       "3   Test_3        1                  0     0     0\n",
       "4   Test_4        0                  0     1     0"
      ]
     },
     "execution_count": 112,
     "metadata": {},
     "output_type": "execute_result"
    }
   ],
   "source": [
    "sub.loc[:, 'healthy':] = result\n",
    "sub.to_csv('submission_5_models_AdaBoost.csv', index=False)\n",
    "sub.head()"
   ]
  },
  {
   "cell_type": "markdown",
   "metadata": {},
   "source": [
    "# Stacking Linear regression LB 0.906"
   ]
  },
  {
   "cell_type": "code",
   "execution_count": 136,
   "metadata": {},
   "outputs": [],
   "source": [
    "from sklearn.linear_model import LinearRegression"
   ]
  },
  {
   "cell_type": "code",
   "execution_count": 137,
   "metadata": {},
   "outputs": [
    {
     "data": {
      "text/plain": [
       "LinearRegression(copy_X=True, fit_intercept=True, n_jobs=None, normalize=False)"
      ]
     },
     "execution_count": 137,
     "metadata": {},
     "output_type": "execute_result"
    }
   ],
   "source": [
    "meta_model = LinearRegression()\n",
    "meta_model.fit(pred_train, train_labels)"
   ]
  },
  {
   "cell_type": "code",
   "execution_count": 138,
   "metadata": {},
   "outputs": [
    {
     "name": "stdout",
     "output_type": "stream",
     "text": [
      "scores mean:  0.9986170600688598\n"
     ]
    }
   ],
   "source": [
    "scores = cross_val_score(meta_model, pred_train, train_labels, cv=5)\n",
    "print('scores mean: ', scores.mean())"
   ]
  },
  {
   "cell_type": "code",
   "execution_count": 139,
   "metadata": {},
   "outputs": [],
   "source": [
    "result = meta_model.predict(pred_test)"
   ]
  },
  {
   "cell_type": "code",
   "execution_count": 140,
   "metadata": {},
   "outputs": [
    {
     "data": {
      "text/html": [
       "<div>\n",
       "<style scoped>\n",
       "    .dataframe tbody tr th:only-of-type {\n",
       "        vertical-align: middle;\n",
       "    }\n",
       "\n",
       "    .dataframe tbody tr th {\n",
       "        vertical-align: top;\n",
       "    }\n",
       "\n",
       "    .dataframe thead th {\n",
       "        text-align: right;\n",
       "    }\n",
       "</style>\n",
       "<table border=\"1\" class=\"dataframe\">\n",
       "  <thead>\n",
       "    <tr style=\"text-align: right;\">\n",
       "      <th></th>\n",
       "      <th>image_id</th>\n",
       "      <th>healthy</th>\n",
       "      <th>multiple_diseases</th>\n",
       "      <th>rust</th>\n",
       "      <th>scab</th>\n",
       "    </tr>\n",
       "  </thead>\n",
       "  <tbody>\n",
       "    <tr>\n",
       "      <th>0</th>\n",
       "      <td>Test_0</td>\n",
       "      <td>-0.000316</td>\n",
       "      <td>0.005636</td>\n",
       "      <td>0.999458</td>\n",
       "      <td>-0.004778</td>\n",
       "    </tr>\n",
       "    <tr>\n",
       "      <th>1</th>\n",
       "      <td>Test_1</td>\n",
       "      <td>-0.000353</td>\n",
       "      <td>0.001480</td>\n",
       "      <td>0.999478</td>\n",
       "      <td>-0.000605</td>\n",
       "    </tr>\n",
       "    <tr>\n",
       "      <th>2</th>\n",
       "      <td>Test_2</td>\n",
       "      <td>-0.000036</td>\n",
       "      <td>-0.000537</td>\n",
       "      <td>-0.000003</td>\n",
       "      <td>1.000576</td>\n",
       "    </tr>\n",
       "    <tr>\n",
       "      <th>3</th>\n",
       "      <td>Test_3</td>\n",
       "      <td>1.000027</td>\n",
       "      <td>-0.000151</td>\n",
       "      <td>-0.000049</td>\n",
       "      <td>0.000172</td>\n",
       "    </tr>\n",
       "    <tr>\n",
       "      <th>4</th>\n",
       "      <td>Test_4</td>\n",
       "      <td>-0.000042</td>\n",
       "      <td>0.000536</td>\n",
       "      <td>0.999934</td>\n",
       "      <td>-0.000428</td>\n",
       "    </tr>\n",
       "  </tbody>\n",
       "</table>\n",
       "</div>"
      ],
      "text/plain": [
       "  image_id   healthy  multiple_diseases      rust      scab\n",
       "0   Test_0 -0.000316           0.005636  0.999458 -0.004778\n",
       "1   Test_1 -0.000353           0.001480  0.999478 -0.000605\n",
       "2   Test_2 -0.000036          -0.000537 -0.000003  1.000576\n",
       "3   Test_3  1.000027          -0.000151 -0.000049  0.000172\n",
       "4   Test_4 -0.000042           0.000536  0.999934 -0.000428"
      ]
     },
     "execution_count": 140,
     "metadata": {},
     "output_type": "execute_result"
    }
   ],
   "source": [
    "sub.loc[:, 'healthy':] = result\n",
    "sub.to_csv('submission_5_models_LinearRegression.csv', index=False)\n",
    "sub.head()"
   ]
  }
 ],
 "metadata": {
  "kernelspec": {
   "display_name": "Python 3",
   "language": "python",
   "name": "python3"
  },
  "language_info": {
   "codemirror_mode": {
    "name": "ipython",
    "version": 3
   },
   "file_extension": ".py",
   "mimetype": "text/x-python",
   "name": "python",
   "nbconvert_exporter": "python",
   "pygments_lexer": "ipython3",
   "version": "3.7.7"
  }
 },
 "nbformat": 4,
 "nbformat_minor": 4
}
